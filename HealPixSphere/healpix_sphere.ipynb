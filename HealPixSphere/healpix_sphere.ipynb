{
 "cells": [
  {
   "cell_type": "code",
   "execution_count": 3,
   "metadata": {},
   "outputs": [],
   "source": [
    "import numpy as np\n",
    "import healpy as hp\n",
    "\n",
    "nside = 16\n",
    "\n",
    "def generate_obj_txt(element_arr, str_key):\n",
    "    txt = \"\"\n",
    "    space, next_line = \" \", \"\\n\"\n",
    "    for elem in element_arr:\n",
    "        txt += str_key + \"\".join(space + str(component) for component in elem) + next_line\n",
    "    return txt\n",
    "\n",
    "\n",
    "npix = 12 * nside ** 2 \n",
    "v_coords = np.zeros((npix * 4, 3)) # 4 corners for each pixel and 3 coords for each corner\n",
    "\n",
    "for i in range(npix):\n",
    "    pbounds = hp.boundaries(nside = nside, pix = i, step = 1, nest = False) # we use ring indexing\n",
    "    v_coords[4 * i : 4 * (i + 1)] = np.transpose(pbounds)\n",
    "\n",
    "v_indices = np.arange(len(v_coords)) + 1\n",
    "faces = v_indices.reshape((npix, 4))\n",
    "\n",
    "# mesh creation\n",
    "f3dname = \"healpix_sphere_nside{}.obj\".format(nside)\n",
    "with open(f3dname,'w') as f3d:\n",
    "    # before saving, change coords\n",
    "    v_coords[:, 1], v_coords[:, 2] = np.copy(v_coords[:, 2]), -np.copy(v_coords[:, 1])\n",
    "    ftxt = generate_obj_txt(v_coords, \"v\")\n",
    "    ftxt += generate_obj_txt(faces, \"f\")\n",
    "    f3d.write(ftxt)"
   ]
  }
 ],
 "metadata": {
  "kernelspec": {
   "display_name": "base",
   "language": "python",
   "name": "python3"
  },
  "language_info": {
   "codemirror_mode": {
    "name": "ipython",
    "version": 3
   },
   "file_extension": ".py",
   "mimetype": "text/x-python",
   "name": "python",
   "nbconvert_exporter": "python",
   "pygments_lexer": "ipython3",
   "version": "3.10.9"
  }
 },
 "nbformat": 4,
 "nbformat_minor": 2
}
